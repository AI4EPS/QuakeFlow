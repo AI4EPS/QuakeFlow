{
 "cells": [
  {
   "cell_type": "markdown",
   "id": "08e68f3d",
   "metadata": {},
   "source": [
    "# Simple Visulization"
   ]
  },
  {
   "cell_type": "code",
   "execution_count": null,
   "id": "a942c6dc",
   "metadata": {
    "execution": {
     "iopub.execute_input": "2021-11-23T02:24:37.577466Z",
     "iopub.status.busy": "2021-11-23T02:24:37.577088Z",
     "iopub.status.idle": "2021-11-23T02:24:38.166218Z",
     "shell.execute_reply": "2021-11-23T02:24:38.165441Z",
     "shell.execute_reply.started": "2021-11-23T02:24:37.577436Z"
    },
    "tags": []
   },
   "outputs": [],
   "source": [
    "import pandas as pd\n",
    "import os\n",
    "from datetime import datetime\n",
    "import matplotlib.dates as mdates\n",
    "import pickle\n",
    "import json\n",
    "import seaborn as sns\n",
    "sns.set_theme()\n",
    "# import pygmt\n",
    "\n",
    "# dir_name = \"Ridgecrest_demo\"\n",
    "# dir_name = \"Ridgecrest_oneweek\"\n",
    "# dir_name = \"Ridgecrest\"\n",
    "# dir_name = \"SaltonSea\"\n",
    "# dir_name = \"SanSimeon\"\n",
    "# dir_name = \"Ridgecrest\"\n",
    "# dir_name = \"Italy\"\n",
    "# dir_name = \"Hawaii\"\n",
    "dir_name = \"PuertoRico\"\n",
    "# dir_name = \"Tahoe\"\n",
    "if not os.path.exists(dir_name):\n",
    "    os.mkdir(dir_name)\n",
    "root_dir = lambda x: os.path.join(dir_name, x)"
   ]
  },
  {
   "cell_type": "code",
   "execution_count": null,
   "id": "b51e3af2",
   "metadata": {
    "execution": {
     "iopub.execute_input": "2021-11-23T02:24:38.168113Z",
     "iopub.status.busy": "2021-11-23T02:24:38.167862Z",
     "iopub.status.idle": "2021-11-23T02:24:38.205150Z",
     "shell.execute_reply": "2021-11-23T02:24:38.204372Z",
     "shell.execute_reply.started": "2021-11-23T02:24:38.168085Z"
    },
    "tags": []
   },
   "outputs": [],
   "source": [
    "result_label=\"QuakeFlow\"\n",
    "catalog_label=\"Standard\"\n",
    "# catalog_label=\"SCSN\"\n",
    "# catalog_label=\"IRIS\"\n",
    "# catalog_file = \"catalog.csv\"\n",
    "# picks_file = \"picks.csv\"\n",
    "catalog_file = \"merged_catalog.csv\"\n",
    "picks_file = \"merged_picks.csv\"\n",
    "\n",
    "hypodd_file = \"hypoDD_catalog.txt\""
   ]
  },
  {
   "cell_type": "code",
   "execution_count": null,
   "id": "2f879e9b",
   "metadata": {
    "execution": {
     "iopub.execute_input": "2021-11-23T02:24:38.208715Z",
     "iopub.status.busy": "2021-11-23T02:24:38.208374Z",
     "iopub.status.idle": "2021-11-23T02:24:50.173233Z",
     "shell.execute_reply": "2021-11-23T02:24:50.172380Z",
     "shell.execute_reply.started": "2021-11-23T02:24:38.208681Z"
    },
    "tags": []
   },
   "outputs": [],
   "source": [
    "with open(root_dir(\"config.json\"), \"r\") as fp:\n",
    "    config = json.load(fp)\n",
    "stations = pd.read_csv(root_dir(\"stations.csv\"), delimiter=\"\\t\")\n",
    "events = pd.read_csv(root_dir(\"events.csv\"), delimiter=\"\\t\")\n",
    "events[\"time\"] = events[\"time\"].apply(lambda x: datetime.strptime(x, \"%Y-%m-%dT%H:%M:%S.%f\"))\n",
    "\n",
    "catalog = pd.read_csv(root_dir(catalog_file), delimiter=\"\\t\")\n",
    "catalog[\"time\"] = catalog[\"time\"].apply(lambda x: datetime.strptime(x, \"%Y-%m-%dT%H:%M:%S.%f\"))\n",
    "catalog[\"covariance\"] = catalog[\"covariance\"].apply(lambda x: [float(i) for i  in x.split(\",\")])\n",
    "\n",
    "catalog_hypoDD = pd.read_csv(root_dir(hypodd_file), sep=\"\\s+\", names=[\"ID\", \"LAT\", \"LON\", \"DEPTH\", \"X\", \"Y\", \"Z\", \"EX\", \"EY\", \"EZ\", \"YR\", \"MO\", \"DY\", \"HR\", \"MI\", \"SC\", \"MAG\", \"NCCP\", \"NCCS\", \"NCTP\",\n",
    "\"NCTS\", \"RCC\", \"RCT\", \"CID\"])\n",
    "catalog_hypoDD[\"time\"] = catalog_hypoDD.apply(lambda x: f'{x[\"YR\"]:04.0f}-{x[\"MO\"]:02.0f}-{x[\"DY\"]:02.0f}T{x[\"HR\"]:02.0f}:{x[\"MI\"]:02.0f}:{min(x[\"SC\"], 59.999):05.3f}', axis=1)\n",
    "catalog_hypoDD[\"time\"] = catalog_hypoDD[\"time\"].apply(lambda x: datetime.strptime(x, \"%Y-%m-%dT%H:%M:%S.%f\"))\n",
    "catalog_hypoDD[\"latitude\"] = catalog_hypoDD[\"LAT\"]\n",
    "catalog_hypoDD[\"longitude\"] = catalog_hypoDD[\"LON\"]\n",
    "catalog_hypoDD[\"depth(m)\"] = catalog_hypoDD[\"DEPTH\"] * 1e3\n",
    "catalog_hypoDD[\"magnitude\"] = catalog_hypoDD[\"MAG\"] \n",
    "\n",
    "catalog = catalog_hypoDD\n",
    "\n",
    "marker_size = 0.1\n",
    "bins = min(len(catalog[\"time\"])//40 + 10, 40)"
   ]
  },
  {
   "cell_type": "code",
   "execution_count": null,
   "id": "65be084b",
   "metadata": {
    "execution": {
     "iopub.execute_input": "2021-11-23T02:24:50.174832Z",
     "iopub.status.busy": "2021-11-23T02:24:50.174532Z",
     "iopub.status.idle": "2021-11-23T02:24:50.221540Z",
     "shell.execute_reply": "2021-11-23T02:24:50.220723Z",
     "shell.execute_reply.started": "2021-11-23T02:24:50.174804Z"
    },
    "tags": []
   },
   "outputs": [],
   "source": [
    "# region = config[\"xlim_degree\"] + config[\"ylim_degree\"]\n",
    "# fig = pygmt.Figure()\n",
    "# fig.basemap(region=region, projection=\"M8i\", frame=True)\n",
    "# fig.grdimage(\"@earth_relief_15s\", cmap=\"topo\", shading=True)\n",
    "# # fig.grdimage(\"@earth_relief_15s\", cmap=\"sealand\", shading=True)\n",
    "# fig.plot(x=stations[\"longitude\"], y=stations[\"latitude\"], style=\"t0.5\", color=\"blue\", pen=\"black\", label=\"Station\")\n",
    "# fig.savefig(root_dir(f\"stations-{dir_name.lower()}.png\"))\n",
    "# fig.savefig(root_dir(f\"stations-{dir_name.lower()}.pdf\"))\n",
    "# fig.show()"
   ]
  },
  {
   "cell_type": "code",
   "execution_count": null,
   "id": "fa7fd3b0",
   "metadata": {
    "execution": {
     "iopub.execute_input": "2021-11-23T02:24:50.223670Z",
     "iopub.status.busy": "2021-11-23T02:24:50.223153Z",
     "iopub.status.idle": "2021-11-23T02:24:52.449974Z",
     "shell.execute_reply": "2021-11-23T02:24:52.449021Z",
     "shell.execute_reply.started": "2021-11-23T02:24:50.223578Z"
    },
    "tags": []
   },
   "outputs": [],
   "source": [
    "plt.figure()\n",
    "# plt.hist(catalog[\"time\"], range=(config[\"starttime\"], config[\"endtime\"]), bins=bins, edgecolor=\"k\", alpha=1.0, linewidth=0.5, label=f\"{result_label}: {len(catalog['time'])}\")\n",
    "plt.hist(catalog[\"time\"], range=(config[\"starttime\"], config[\"endtime\"]), bins=bins, edgecolor=\"k\", alpha=1.0, linewidth=0.5, label=f\"{result_label}: {len(catalog_hypoDD['time'])}\")\n",
    "plt.hist(events[\"time\"], range=(config[\"starttime\"], config[\"endtime\"]), bins=bins, edgecolor=\"k\", alpha=1.0, linewidth=0.5, label=f\"{catalog_label}: {len(events['time'])}\")\n",
    "plt.xlim(datetime.fromisoformat(config[\"starttime\"]), datetime.fromisoformat(config[\"endtime\"]))\n",
    "plt.ylabel(\"Frequency\")\n",
    "plt.xlabel(\"Date\")\n",
    "# plt.yscale(\"log\")\n",
    "plt.gca().autoscale(enable=True, axis='x', tight=True)\n",
    "plt.gca().xaxis.set_major_formatter(mdates.DateFormatter('%b %d %Y'))\n",
    "plt.gcf().autofmt_xdate()\n",
    "plt.legend()\n",
    "plt.savefig(root_dir(\"earthquake_number.png\"), bbox_inches=\"tight\", dpi=300)\n",
    "plt.savefig(root_dir(\"earthquake_number.pdf\"), bbox_inches=\"tight\")\n",
    "plt.show()"
   ]
  },
  {
   "cell_type": "code",
   "execution_count": null,
   "id": "5411326c",
   "metadata": {
    "execution": {
     "iopub.execute_input": "2021-11-23T02:24:52.452101Z",
     "iopub.status.busy": "2021-11-23T02:24:52.451804Z",
     "iopub.status.idle": "2021-11-23T02:24:56.134521Z",
     "shell.execute_reply": "2021-11-23T02:24:56.133201Z",
     "shell.execute_reply.started": "2021-11-23T02:24:52.452068Z"
    },
    "tags": []
   },
   "outputs": [],
   "source": [
    "fig = plt.figure(figsize=plt.rcParams[\"figure.figsize\"]*np.array([1.5,1]))\n",
    "box = dict(boxstyle='round', facecolor='white', alpha=1)\n",
    "text_loc = [0.05, 0.92]\n",
    "grd = fig.add_gridspec(ncols=2, nrows=2, width_ratios=[1.5, 1], height_ratios=[1,1])\n",
    "fig.add_subplot(grd[:, 0])\n",
    "plt.plot(stations[\"longitude\"], stations[\"latitude\"], 'k^', markersize=3, alpha=0.5, label=\"Stations\")\n",
    "plt.plot(catalog[\"longitude\"], catalog[\"latitude\"], '.',markersize=marker_size, alpha=1.0, rasterized=True)\n",
    "plt.plot(events[\"longitude\"], events[\"latitude\"], '.', markersize=marker_size, alpha=0.6, rasterized=True)\n",
    "plt.axis(\"scaled\")\n",
    "plt.xlim(np.array(config[\"xlim_degree\"]))#+np.array([0.2,-0.27]))\n",
    "plt.ylim(np.array(config[\"ylim_degree\"]))#+np.array([0.2,-0.27]))\n",
    "plt.ylabel(\"Latitude\")\n",
    "plt.xlabel(\"Longitude\")\n",
    "plt.gca().set_prop_cycle(None)\n",
    "plt.plot(config[\"xlim_degree\"][0]-10, config[\"ylim_degree\"][0]-10, '.', markersize=10, label=f\"{result_label}: {len(catalog['time'])}\")\n",
    "plt.plot(config[\"xlim_degree\"][0]-10, config[\"ylim_degree\"][0]-10, '.', markersize=10, label=f\"{catalog_label}: {len(events['time'])}\")\n",
    "plt.legend(loc=\"lower right\")\n",
    "plt.text(text_loc[0], text_loc[1], '(i)', horizontalalignment='left', verticalalignment=\"top\", \n",
    "         transform=plt.gca().transAxes, fontsize=\"large\", fontweight=\"normal\", bbox=box)\n",
    "\n",
    "fig.add_subplot(grd[0, 1])\n",
    "plt.plot(catalog[\"longitude\"], catalog[\"depth(m)\"]/1e3, '.', markersize=marker_size, alpha=1.0, rasterized=True)\n",
    "plt.plot(events[\"longitude\"], events[\"depth(m)\"]/1e3, '.', markersize=marker_size, alpha=0.6, rasterized=True)\n",
    "# plt.axis(\"scaled\")\n",
    "plt.xlim(np.array(config[\"xlim_degree\"]))#+np.array([0.2,-0.27]))\n",
    "# plt.ylim([0,21])\n",
    "plt.ylim(bottom=0, top=41)\n",
    "plt.gca().invert_yaxis()\n",
    "plt.xlabel(\"Longitude\")\n",
    "plt.ylabel(\"Depth (km)\")\n",
    "plt.gca().set_prop_cycle(None)\n",
    "plt.plot(config[\"xlim_degree\"][0]-10, 31, '.', markersize=10, label=f\"{result_label}\")\n",
    "plt.plot(31, 31, '.', markersize=10, label=f\"{catalog_label}\")\n",
    "plt.legend(loc=\"lower right\")\n",
    "plt.text(text_loc[0], text_loc[1], '(ii)', horizontalalignment='left', verticalalignment=\"top\", \n",
    "         transform=plt.gca().transAxes, fontsize=\"large\", fontweight=\"normal\", bbox=box)\n",
    "\n",
    "fig.add_subplot(grd[1, 1])\n",
    "plt.plot(catalog[\"latitude\"], catalog[\"depth(m)\"]/1e3, '.', markersize=marker_size, alpha=1.0, rasterized=True)\n",
    "plt.plot(events[\"latitude\"], events[\"depth(m)\"]/1e3, '.', markersize=marker_size, alpha=0.6, rasterized=True)\n",
    "# plt.axis(\"scaled\")\n",
    "plt.xlim(np.array(config[\"ylim_degree\"]))#+np.array([0.2,-0.27]))\n",
    "# plt.ylim([0,21])\n",
    "plt.ylim(bottom=0, top=41)\n",
    "plt.gca().invert_yaxis()\n",
    "plt.xlabel(\"Latitude\")\n",
    "plt.ylabel(\"Depth (km)\")\n",
    "plt.gca().set_prop_cycle(None)\n",
    "plt.plot(config[\"ylim_degree\"][0]-10, 31, '.', markersize=10, label=f\"{result_label}\")\n",
    "plt.plot(31, 31, '.', markersize=10, label=f\"{catalog_label}\")\n",
    "plt.legend(loc=\"lower left\")\n",
    "plt.tight_layout()\n",
    "plt.text(text_loc[0], text_loc[1], '(iii)', horizontalalignment='left', verticalalignment=\"top\", \n",
    "         transform=plt.gca().transAxes, fontsize=\"large\", fontweight=\"normal\", bbox=box)\n",
    "plt.savefig(root_dir(\"earthquake_location.png\"), bbox_inches=\"tight\", dpi=300)\n",
    "plt.savefig(root_dir(\"earthquake_location.pdf\"), bbox_inches=\"tight\", dpi=300)\n",
    "plt.show()"
   ]
  },
  {
   "cell_type": "code",
   "execution_count": null,
   "id": "ed8cf1aa",
   "metadata": {
    "execution": {
     "iopub.execute_input": "2021-11-23T02:24:56.137073Z",
     "iopub.status.busy": "2021-11-23T02:24:56.136300Z",
     "iopub.status.idle": "2021-11-23T02:24:59.008668Z",
     "shell.execute_reply": "2021-11-23T02:24:59.007708Z",
     "shell.execute_reply.started": "2021-11-23T02:24:56.136971Z"
    },
    "tags": []
   },
   "outputs": [],
   "source": [
    "# catalog[\"magnitude\"] += np.log(np.sqrt(2))\n",
    "plt.figure()\n",
    "xrange = (-1., max(events[\"magnitude\"].max(), catalog[\"magnitude\"].max()))\n",
    "# xrange = (-1., events[\"magnitude\"].max())\n",
    "plt.hist(catalog[\"magnitude\"], range=xrange, bins=bins, alpha=1.0,  edgecolor=\"k\", linewidth=0.5, label=f\"{result_label}: {len(catalog['magnitude'])}\")\n",
    "# plt.hist(catalog_hypoDD[\"magnitude\"], range=xrange, bins=bins, alpha=1.0,  edgecolor=\"k\", linewidth=0.5, label=f\"{result_label}: {len(catalog['magnitude'])}\")\n",
    "plt.hist(events[\"magnitude\"], range=xrange, bins=bins, alpha=0.6,  edgecolor=\"k\", linewidth=0.5, label=f\"{catalog_label}: {len(events['magnitude'])}\")\n",
    "plt.legend()\n",
    "plt.xlim(xrange)\n",
    "plt.xlabel(\"Magnitude\")\n",
    "plt.ylabel(\"Frequency\")\n",
    "plt.gca().set_yscale('log')\n",
    "plt.savefig(root_dir(\"earthquake_magnitude_frequency.png\"), bbox_inches=\"tight\", dpi=300)\n",
    "plt.savefig(root_dir(\"earthquake_magnitude_frequency.pdf\"), bbox_inches=\"tight\")\n",
    "plt.show()"
   ]
  },
  {
   "cell_type": "code",
   "execution_count": null,
   "id": "7caf039a",
   "metadata": {
    "execution": {
     "iopub.execute_input": "2021-11-23T02:24:59.010592Z",
     "iopub.status.busy": "2021-11-23T02:24:59.010161Z",
     "iopub.status.idle": "2021-11-23T02:25:02.183391Z",
     "shell.execute_reply": "2021-11-23T02:25:02.182713Z",
     "shell.execute_reply.started": "2021-11-23T02:24:59.010560Z"
    },
    "tags": []
   },
   "outputs": [],
   "source": [
    "plt.figure()\n",
    "plt.plot(catalog[\"time\"], catalog[\"magnitude\"], '.', markersize=marker_size+1.5, alpha=1.0, rasterized=True)\n",
    "plt.plot(events[\"time\"], events[\"magnitude\"], '.', markersize=marker_size+1.5, alpha=0.8, rasterized=True)\n",
    "plt.xlim(datetime.fromisoformat(config[\"starttime\"]), datetime.fromisoformat(config[\"endtime\"]))\n",
    "# plt.ylim(top=events[\"magnitude\"].max())\n",
    "ylim = plt.ylim(bottom=-1)\n",
    "xlim = plt.xlim()\n",
    "plt.ylabel(\"Magnitude\")\n",
    "plt.xlabel(\"Date\")\n",
    "plt.gca().xaxis.set_major_formatter(mdates.DateFormatter('%b %d %Y'))\n",
    "plt.gcf().autofmt_xdate()\n",
    "plt.gca().set_prop_cycle(None)\n",
    "plt.plot(datetime.fromisoformat(config[\"starttime\"]), -10, '.', markersize=15, alpha=1.0, label=f\"{result_label}: {len(catalog['magnitude'])}\")\n",
    "plt.plot(datetime.fromisoformat(config[\"starttime\"]), -10, '.', markersize=15, alpha=1.0, label=f\"{catalog_label}: {len(events['magnitude'])}\")\n",
    "plt.legend()\n",
    "plt.xlim(xlim)\n",
    "plt.ylim(ylim)\n",
    "# plt.grid()\n",
    "plt.savefig(root_dir(\"earthquake_magnitude_time.png\"), bbox_inches=\"tight\", dpi=300)\n",
    "plt.savefig(root_dir(\"earthquake_magnitude_time.pdf\"), bbox_inches=\"tight\", dpi=300)\n",
    "plt.show();"
   ]
  },
  {
   "cell_type": "code",
   "execution_count": null,
   "id": "fdb99617",
   "metadata": {
    "execution": {
     "iopub.execute_input": "2021-11-23T02:25:02.184628Z",
     "iopub.status.busy": "2021-11-23T02:25:02.184309Z",
     "iopub.status.idle": "2021-11-23T02:25:02.228976Z",
     "shell.execute_reply": "2021-11-23T02:25:02.228157Z",
     "shell.execute_reply.started": "2021-11-23T02:25:02.184599Z"
    },
    "tags": []
   },
   "outputs": [],
   "source": [
    "# covariance = np.array(catalog[\"covariance\"].to_list())\n",
    "\n",
    "# fig = plt.figure(figsize=plt.rcParams[\"figure.figsize\"]*np.array([0.8,1.1]))\n",
    "# box = dict(boxstyle='round', facecolor='white', alpha=1)\n",
    "# text_loc = [0.05, 0.90]\n",
    "# plt.subplot(311)\n",
    "# plt.plot(catalog[\"time\"], covariance[:,0], '.', markersize=marker_size, label=\"Travel-time\", rasterized=True)\n",
    "# plt.ylim([0, 3])\n",
    "# plt.ylabel(r\"$\\Sigma_{11}$ (s)$^2$\")\n",
    "# plt.legend(loc=\"upper right\")\n",
    "# plt.text(text_loc[0], text_loc[1], '(i)', horizontalalignment='left', verticalalignment=\"top\", \n",
    "#          transform=plt.gca().transAxes, fontsize=\"large\", fontweight=\"normal\", bbox=box)\n",
    "# plt.subplot(312)\n",
    "# plt.plot(catalog[\"time\"], covariance[:,1], '.', markersize=marker_size, label=\"Amplitude\", rasterized=True)\n",
    "# plt.ylim([0, 1])\n",
    "# plt.ylabel(r\"$\\Sigma_{22}$ ($\\log10$ m/s)$^2$\")\n",
    "# plt.legend(loc=\"upper right\")\n",
    "# plt.text(text_loc[0], text_loc[1], '(ii)', horizontalalignment='left', verticalalignment=\"top\", \n",
    "#          transform=plt.gca().transAxes, fontsize=\"large\", fontweight=\"normal\", bbox=box)\n",
    "# plt.subplot(313)\n",
    "# plt.plot(catalog[\"time\"], covariance[:,2], '.', markersize=marker_size, label=\"Travel-time vs. Amplitude\", rasterized=True)\n",
    "# plt.ylabel(r\"$\\Sigma_{12}$\")\n",
    "# plt.ylim([-0.5, 0.7])\n",
    "# plt.legend(loc=\"upper right\")\n",
    "# plt.text(text_loc[0], text_loc[1], '(iii)', horizontalalignment='left', verticalalignment=\"top\", \n",
    "#          transform=plt.gca().transAxes, fontsize=\"large\", fontweight=\"normal\", bbox=box)\n",
    "# plt.gca().xaxis.set_major_formatter(mdates.DateFormatter('%m-%d:%H'))\n",
    "# plt.gcf().autofmt_xdate()\n",
    "# # plt.suptitle(r\"Covariance Matrix ($\\Sigma$) Coefficients\")\n",
    "# plt.tight_layout()\n",
    "# plt.gcf().align_labels()\n",
    "# plt.savefig(root_dir(\"covariance.png\"), bbox_inches=\"tight\", dpi=300)\n",
    "# plt.savefig(root_dir(\"covariance.pdf\"), bbox_inches=\"tight\")\n",
    "# plt.show();"
   ]
  },
  {
   "cell_type": "code",
   "execution_count": null,
   "id": "854d4518",
   "metadata": {},
   "outputs": [],
   "source": []
  },
  {
   "cell_type": "code",
   "execution_count": null,
   "id": "41e405a1-1a1f-481f-97e2-cebfe3b1e067",
   "metadata": {},
   "outputs": [],
   "source": []
  }
 ],
 "metadata": {
  "interpreter": {
   "hash": "f4d5179fc222eb76bfd3dcff5bf88b43751287e77ddc0be170fe093e3076340e"
  },
  "kernelspec": {
   "display_name": "Python 3 (ipykernel)",
   "language": "python",
   "name": "python3"
  },
  "language_info": {
   "codemirror_mode": {
    "name": "ipython",
    "version": 3
   },
   "file_extension": ".py",
   "mimetype": "text/x-python",
   "name": "python",
   "nbconvert_exporter": "python",
   "pygments_lexer": "ipython3",
   "version": "3.8.11"
  }
 },
 "nbformat": 4,
 "nbformat_minor": 5
}
