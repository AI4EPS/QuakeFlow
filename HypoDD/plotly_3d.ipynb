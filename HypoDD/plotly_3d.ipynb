{
 "cells": [
  {
   "cell_type": "code",
   "execution_count": null,
   "id": "2fbdd234-57db-4ff1-9475-d5e39515229a",
   "metadata": {
    "execution": {
     "iopub.execute_input": "2021-11-22T19:38:42.483455Z",
     "iopub.status.busy": "2021-11-22T19:38:42.483127Z",
     "iopub.status.idle": "2021-11-22T19:38:42.517907Z",
     "shell.execute_reply": "2021-11-22T19:38:42.517186Z",
     "shell.execute_reply.started": "2021-11-22T19:38:42.483420Z"
    },
    "tags": []
   },
   "outputs": [],
   "source": [
    "import pandas as pd\n",
    "import plotly.graph_objects as go\n",
    "import numpy as np\n",
    "from datetime import datetime"
   ]
  },
  {
   "cell_type": "code",
   "execution_count": null,
   "id": "a3b25159-4880-419d-ab2a-3cf842746fa1",
   "metadata": {
    "execution": {
     "iopub.execute_input": "2021-11-22T19:38:42.986245Z",
     "iopub.status.busy": "2021-11-22T19:38:42.985891Z",
     "iopub.status.idle": "2021-11-22T19:38:43.954863Z",
     "shell.execute_reply": "2021-11-22T19:38:43.953522Z",
     "shell.execute_reply.started": "2021-11-22T19:38:42.986205Z"
    },
    "tags": []
   },
   "outputs": [],
   "source": [
    "region_name = \"PuertoRico\"\n",
    "xlim = (-68, -65)\n",
    "ylim = (17, 19)\n",
    "zlim = (-30, 0)\n",
    "size = 1\n",
    "\n",
    "region_name = \"Ridgecrest\"\n",
    "xlim = (-117.8, -117.3)\n",
    "ylim = (35.5, 36.0)\n",
    "zlim = (-15, 0)\n",
    "size = 2\n",
    "\n",
    "region_name = \"Hawaii\"\n",
    "xlim = (-156.00, -154.75)\n",
    "ylim = (18.9, 19.8)\n",
    "zlim = (-40, 0)\n",
    "zlim_special = None\n",
    "size = 2.0\n",
    "alpha = 0.5\n",
    "max_sigma = 1.5\n",
    "\n",
    "# catalog_hypoinverse = pd.read_csv(\"catOut.sum\", sep=\"\\s+\")\n",
    "catalog_hypoDD = pd.read_csv(f\"./{region_name}/hypoDD_catalog.txt\", sep=\"\\s+\", names=[\"ID\", \"LAT\", \"LON\", \"DEPTH\", \"X\", \"Y\", \"Z\", \"EX\", \"EY\", \"EZ\", \"YR\", \"MO\", \"DY\", \"HR\", \"MI\", \"SC\", \"MAG\", \"NCCP\", \"NCCS\", \"NCTP\",\n",
    "\"NCTS\", \"RCC\", \"RCT\", \"CID\"])\n",
    "\n",
    "catalog_hypoDD[\"time\"] = catalog_hypoDD.apply(lambda x: f'{x[\"YR\"]:04.0f}-{x[\"MO\"]:02.0f}-{x[\"DY\"]:02.0f}T{x[\"HR\"]:02.0f}:{x[\"MI\"]:02.0f}:{min(x[\"SC\"], 59.999):05.3f}', axis=1)\n",
    "catalog_hypoDD[\"time\"] = catalog_hypoDD[\"time\"].apply(lambda x: datetime.strptime(x, \"%Y-%m-%dT%H:%M:%S.%f\"))\n",
    "\n",
    "# catalog_gamma = pd.read_csv(f\"./{region_name}/gamma_catalog.csv\", sep=\"\\t\")\n",
    "# picks_gamma = pd.read_csv(f\"./{region_name}/gamma_picks.csv\", sep=\"\\t\")"
   ]
  },
  {
   "cell_type": "code",
   "execution_count": null,
   "id": "7296bfb6",
   "metadata": {},
   "outputs": [],
   "source": [
    "c_gamma = (np.array(catalog_hypoDD[\"time\"]) - np.datetime64('1970-01-01T00:00:00Z')) / np.timedelta64(1, 's')\n",
    "c_hypodd = (np.array(catalog_hypoDD[\"time\"]) - np.datetime64('1970-01-01T00:00:00Z')) / np.timedelta64(1, 's')\n",
    "t_gamma = catalog_hypoDD[\"time\"]\n",
    "t_hypodd = catalog_hypoDD[\"time\"]"
   ]
  },
  {
   "cell_type": "code",
   "execution_count": null,
   "id": "13822770-d5f8-41bf-bbf7-f6ea7828ce5d",
   "metadata": {
    "execution": {
     "iopub.execute_input": "2021-11-22T19:36:48.595317Z",
     "iopub.status.busy": "2021-11-22T19:36:48.594906Z",
     "iopub.status.idle": "2021-11-22T19:36:48.644404Z",
     "shell.execute_reply": "2021-11-22T19:36:48.643671Z",
     "shell.execute_reply.started": "2021-11-22T19:36:48.595279Z"
    },
    "tags": []
   },
   "outputs": [],
   "source": [
    "x = catalog_hypoDD[\"LON\"]\n",
    "y = catalog_hypoDD[\"LAT\"]\n",
    "z = -catalog_hypoDD[\"DEPTH\"]\n",
    "\n",
    "c_depth = z.copy()\n",
    "c_depth[c_depth<zlim[0]] = zlim[0]\n",
    "c_depth[c_depth>zlim[1]] = zlim[1]\n",
    "\n",
    "c_time = c_hypodd"
   ]
  },
  {
   "cell_type": "code",
   "execution_count": null,
   "id": "87b3f3e1-d118-44ae-b8ee-469d47e86ea8",
   "metadata": {
    "execution": {
     "iopub.execute_input": "2021-11-22T19:37:40.633552Z",
     "iopub.status.busy": "2021-11-22T19:37:40.633117Z",
     "iopub.status.idle": "2021-11-22T19:37:40.914714Z",
     "shell.execute_reply": "2021-11-22T19:37:40.912765Z",
     "shell.execute_reply.started": "2021-11-22T19:37:40.633518Z"
    },
    "tags": []
   },
   "outputs": [],
   "source": [
    "\n",
    "fig = go.Figure(\n",
    "    data=[go.Scatter3d(x=x, y=y, z=z,\n",
    "        mode='markers',\n",
    "        marker=dict(size=size,\n",
    "            color=c_time,                 \n",
    "            colorscale='Viridis',  \n",
    "            opacity=0.8))],\n",
    "            )\n",
    "\n",
    "fig.update_layout(\n",
    "    scene = dict(\n",
    "        xaxis = dict(nticks=4, range=xlim,),\n",
    "        yaxis = dict(nticks=4, range=ylim,),\n",
    "        zaxis = dict(nticks=4, range=zlim,),\n",
    "#         aspectratio = dict(x=(xlim[1]-xlim[0])/2, y=(ylim[1]-ylim[0])/2, z=1),\n",
    "        aspectratio = dict(x=1, y=1, z=0.5),\n",
    "    ),\n",
    "    margin=dict(r=0, l=0, b=0, t=0),\n",
    ")\n",
    "fig.write_html(f\"{region_name}/catalog_color_by_time.html\")\n",
    "fig.show()"
   ]
  },
  {
   "cell_type": "code",
   "execution_count": null,
   "id": "69c56387-d42d-4e00-b6f4-0be52c99e1dd",
   "metadata": {},
   "outputs": [],
   "source": [
    "fig = go.Figure(\n",
    "    data=[go.Scatter3d(x=x, y=y, z=z,\n",
    "        mode='markers',\n",
    "        marker=dict(size=size,\n",
    "            color=c_depth,                 \n",
    "            colorscale='Viridis',  \n",
    "            opacity=0.8))],\n",
    "            )\n",
    "\n",
    "fig.update_layout(\n",
    "    scene = dict(\n",
    "        xaxis = dict(nticks=4, range=xlim,),\n",
    "        yaxis = dict(nticks=4, range=ylim,),\n",
    "        zaxis = dict(nticks=4, range=zlim,),\n",
    "#         aspectratio = dict(x=(xlim[1]-xlim[0])/2, y=(ylim[1]-ylim[0])/2, z=1),\n",
    "        aspectratio = dict(x=1, y=1, z=0.5),\n",
    "    ),\n",
    "    margin=dict(r=0, l=0, b=0, t=0),\n",
    ")\n",
    "fig.write_html(f\"{region_name}/catalog_color_by_depth.html\")\n",
    "fig.show()"
   ]
  },
  {
   "cell_type": "code",
   "execution_count": null,
   "id": "088579c3-1297-495e-ab87-2b4978183227",
   "metadata": {},
   "outputs": [],
   "source": []
  }
 ],
 "metadata": {
  "kernelspec": {
   "display_name": "Python 3 (ipykernel)",
   "language": "python",
   "name": "python3"
  },
  "language_info": {
   "codemirror_mode": {
    "name": "ipython",
    "version": 3
   },
   "file_extension": ".py",
   "mimetype": "text/x-python",
   "name": "python",
   "nbconvert_exporter": "python",
   "pygments_lexer": "ipython3",
   "version": "3.8.11"
  }
 },
 "nbformat": 4,
 "nbformat_minor": 5
}
