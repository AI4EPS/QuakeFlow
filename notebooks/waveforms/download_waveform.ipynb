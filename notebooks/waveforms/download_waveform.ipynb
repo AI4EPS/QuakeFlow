{
 "cells": [
  {
   "cell_type": "code",
   "execution_count": 49,
   "metadata": {
    "execution": {
     "iopub.execute_input": "2021-07-23T07:24:29.932092Z",
     "iopub.status.busy": "2021-07-23T07:24:29.931653Z",
     "iopub.status.idle": "2021-07-23T07:24:31.371242Z",
     "shell.execute_reply": "2021-07-23T07:24:31.370340Z",
     "shell.execute_reply.started": "2021-07-23T07:24:29.932059Z"
    }
   },
   "outputs": [],
   "source": [
    "import warnings\n",
    "\n",
    "import kfp\n",
    "import kfp.dsl as dsl\n",
    "import kfp.components as comp\n",
    "from kfp.components import InputPath, OutputPath\n",
    "\n",
    "warnings.filterwarnings(\"ignore\")\n"
   ]
  },
  {
   "cell_type": "markdown",
   "metadata": {},
   "source": [
    "## 2. Set configurations"
   ]
  },
  {
   "cell_type": "code",
   "execution_count": 50,
   "metadata": {
    "execution": {
     "iopub.execute_input": "2021-07-23T07:24:31.373260Z",
     "iopub.status.busy": "2021-07-23T07:24:31.373027Z",
     "iopub.status.idle": "2021-07-23T07:24:31.410541Z",
     "shell.execute_reply": "2021-07-23T07:24:31.409735Z",
     "shell.execute_reply.started": "2021-07-23T07:24:31.373232Z"
    }
   },
   "outputs": [],
   "source": [
    "import os\n",
    "import matplotlib\n",
    "\n",
    "# matplotlib.use(\"agg\")\n",
    "import matplotlib.pyplot as plt\n",
    "\n",
    "region_name = \"Hawaii_201801_202206\"\n",
    "dir_name = region_name\n",
    "if not os.path.exists(dir_name):\n",
    "    os.mkdir(dir_name)\n",
    "root_dir = lambda x: os.path.join(dir_name, x)\n",
    "\n",
    "run_local = False\n"
   ]
  },
  {
   "cell_type": "code",
   "execution_count": 51,
   "metadata": {
    "execution": {
     "iopub.execute_input": "2021-07-23T07:24:31.412031Z",
     "iopub.status.busy": "2021-07-23T07:24:31.411820Z",
     "iopub.status.idle": "2021-07-23T07:24:31.463023Z",
     "shell.execute_reply": "2021-07-23T07:24:31.462151Z",
     "shell.execute_reply.started": "2021-07-23T07:24:31.412008Z"
    }
   },
   "outputs": [],
   "source": [
    "def set_config(\n",
    "    index_json: OutputPath(\"json\"),\n",
    "    config_json: OutputPath(\"json\"),\n",
    "    datetime_json: OutputPath(\"json\"),\n",
    "    num_parallel: int = 1,\n",
    ") -> list:\n",
    "\n",
    "    import obspy\n",
    "    import os\n",
    "    import pickle\n",
    "    import datetime\n",
    "    import numpy as np\n",
    "    import json\n",
    "\n",
    "    pi = 3.1415926\n",
    "    degree2km = pi * 6371 / 180\n",
    "\n",
    "    region_name = \"Hawaii\"\n",
    "    center = (-155.32, 19.39)\n",
    "    horizontal_degree = 2.0\n",
    "    vertical_degree = 2.0\n",
    "    # starttime = obspy.UTCDateTime(\"2018-01-01T00\")\n",
    "    starttime = obspy.UTCDateTime(\"2021-01-01T00\")\n",
    "    endtime = obspy.UTCDateTime(\"2022-05-18T00\")\n",
    "    # endtime = obspy.UTCDateTime(\"2018-01-03T00\")\n",
    "    client = \"IRIS\"\n",
    "    network_list = [\"HV\", \"PT\"]\n",
    "    channel_list = \"HH*,BH*,EH*,HN*\"\n",
    "\n",
    "    ####### save config ########\n",
    "    config = {}\n",
    "    config[\"region\"] = region_name\n",
    "    config[\"center\"] = center\n",
    "    config[\"xlim_degree\"] = [\n",
    "        center[0] - horizontal_degree / 2,\n",
    "        center[0] + horizontal_degree / 2,\n",
    "    ]\n",
    "    config[\"ylim_degree\"] = [\n",
    "        center[1] - vertical_degree / 2,\n",
    "        center[1] + vertical_degree / 2,\n",
    "    ]\n",
    "    config[\"degree2km\"] = degree2km\n",
    "    config[\"starttime\"] = starttime.datetime.isoformat()\n",
    "    config[\"endtime\"] = endtime.datetime.isoformat()\n",
    "    config[\"networks\"] = network_list\n",
    "    config[\"channels\"] = channel_list\n",
    "    config[\"client\"] = client\n",
    "\n",
    "    with open(config_json, 'w') as fp:\n",
    "        json.dump(config, fp)\n",
    "\n",
    "    one_day = datetime.timedelta(days=1)\n",
    "    # one_hour = datetime.timedelta(hours=1)\n",
    "    starttimes = []\n",
    "    tmp_start = starttime\n",
    "    while tmp_start < endtime:\n",
    "        starttimes.append(tmp_start.datetime.isoformat())\n",
    "        # tmp_start += one_hour\n",
    "        tmp_start += one_day\n",
    "\n",
    "    with open(datetime_json, \"w\") as fp:\n",
    "        # json.dump({\"starttimes\": starttimes, \"interval\": one_hour.total_seconds()}, fp)\n",
    "        json.dump({\"starttimes\": starttimes, \"interval\": one_day.total_seconds()}, fp)\n",
    "\n",
    "    if num_parallel == 0:\n",
    "        # num_parallel = min(60, len(starttimes)//6)\n",
    "        num_parallel = min(30, len(starttimes))\n",
    "\n",
    "    idx = [[] for i in range(num_parallel)]\n",
    "    for i in range(len(starttimes)):\n",
    "        idx[i - i // num_parallel * num_parallel].append(i)\n",
    "\n",
    "    with open(index_json, 'w') as fp:\n",
    "        json.dump(idx, fp)\n",
    "\n",
    "    return list(range(num_parallel))\n"
   ]
  },
  {
   "cell_type": "code",
   "execution_count": 52,
   "metadata": {
    "execution": {
     "iopub.execute_input": "2021-07-23T07:24:31.465407Z",
     "iopub.status.busy": "2021-07-23T07:24:31.464744Z",
     "iopub.status.idle": "2021-07-23T07:24:31.510297Z",
     "shell.execute_reply": "2021-07-23T07:24:31.509494Z",
     "shell.execute_reply.started": "2021-07-23T07:24:31.465364Z"
    }
   },
   "outputs": [],
   "source": [
    "if run_local:\n",
    "    idx = set_config(root_dir(\"index.json\"), root_dir(\"config.json\"), root_dir(\"datetimes.json\"), num_parallel=1,)"
   ]
  },
  {
   "cell_type": "code",
   "execution_count": 53,
   "metadata": {
    "execution": {
     "iopub.execute_input": "2021-07-23T07:24:31.512170Z",
     "iopub.status.busy": "2021-07-23T07:24:31.511860Z",
     "iopub.status.idle": "2021-07-23T07:24:31.636918Z",
     "shell.execute_reply": "2021-07-23T07:24:31.636196Z",
     "shell.execute_reply.started": "2021-07-23T07:24:31.512138Z"
    }
   },
   "outputs": [],
   "source": [
    "config_op = comp.func_to_container_op(\n",
    "    set_config,\n",
    "    # base_image='zhuwq0/quakeflow-env:latest',\n",
    "    base_image='python:3.8',\n",
    "    packages_to_install=[\"numpy\", \"obspy\",],\n",
    ")\n"
   ]
  },
  {
   "cell_type": "markdown",
   "metadata": {},
   "source": [
    "## 3. Download events in the routine catalog\n",
    "\n",
    "This catalog is not used by QuakeFolow. It is only used for comparing detection results."
   ]
  },
  {
   "cell_type": "code",
   "execution_count": 54,
   "metadata": {
    "execution": {
     "iopub.execute_input": "2021-07-23T07:24:31.638319Z",
     "iopub.status.busy": "2021-07-23T07:24:31.638063Z",
     "iopub.status.idle": "2021-07-23T07:24:31.702875Z",
     "shell.execute_reply": "2021-07-23T07:24:31.701768Z",
     "shell.execute_reply.started": "2021-07-23T07:24:31.638291Z"
    }
   },
   "outputs": [],
   "source": [
    "def download_events(config_json: InputPath(\"json\"), event_csv: OutputPath(str)):\n",
    "\n",
    "    import pickle, os\n",
    "    import obspy\n",
    "    from obspy.clients.fdsn import Client\n",
    "    from collections import defaultdict\n",
    "    import pandas as pd\n",
    "    import json\n",
    "    import matplotlib\n",
    "\n",
    "    #     matplotlib.use(\"agg\")\n",
    "    import matplotlib.pyplot as plt\n",
    "\n",
    "    with open(config_json, \"r\") as fp:\n",
    "        config = json.load(fp)\n",
    "\n",
    "    ####### IRIS catalog ########\n",
    "    try:\n",
    "        events = Client(config[\"client\"]).get_events(\n",
    "            starttime=config[\"starttime\"],\n",
    "            endtime=config[\"endtime\"],\n",
    "            minlongitude=config[\"xlim_degree\"][0],\n",
    "            maxlongitude=config[\"xlim_degree\"][1],\n",
    "            minlatitude=config[\"ylim_degree\"][0],\n",
    "            maxlatitude=config[\"ylim_degree\"][1],\n",
    "            # filename='events.xml',\n",
    "        )\n",
    "    except:\n",
    "        events = Client(\"iris\").get_events(\n",
    "            starttime=config[\"starttime\"],\n",
    "            endtime=config[\"endtime\"],\n",
    "            minlongitude=config[\"xlim_degree\"][0],\n",
    "            maxlongitude=config[\"xlim_degree\"][1],\n",
    "            minlatitude=config[\"ylim_degree\"][0],\n",
    "            maxlatitude=config[\"ylim_degree\"][1],\n",
    "            # filename='events.xml',\n",
    "        )\n",
    "\n",
    "    #     events = obspy.read_events('events.xml')\n",
    "    print(f\"Number of events: {len(events)}\")\n",
    "    #     events.plot('local', outfile=\"events.png\")\n",
    "    #     events.plot('local')\n",
    "\n",
    "    ####### Save catalog ########\n",
    "    catalog = defaultdict(list)\n",
    "    for event in events:\n",
    "        if len(event.magnitudes) > 0:\n",
    "            catalog[\"time\"].append(event.origins[0].time.datetime)\n",
    "            catalog[\"magnitude\"].append(event.magnitudes[0].mag)\n",
    "            catalog[\"longitude\"].append(event.origins[0].longitude)\n",
    "            catalog[\"latitude\"].append(event.origins[0].latitude)\n",
    "            catalog[\"depth(m)\"].append(event.origins[0].depth)\n",
    "    catalog = pd.DataFrame.from_dict(catalog).sort_values([\"time\"])\n",
    "    catalog.to_csv(\n",
    "        event_csv,\n",
    "        sep=\"\\t\",\n",
    "        index=False,\n",
    "        float_format=\"%.3f\",\n",
    "        date_format='%Y-%m-%dT%H:%M:%S.%f',\n",
    "        columns=[\"time\", \"magnitude\", \"longitude\", \"latitude\", \"depth(m)\"],\n",
    "    )\n",
    "\n",
    "    ####### Plot catalog ########\n",
    "    plt.figure()\n",
    "    plt.plot(catalog[\"longitude\"], catalog[\"latitude\"], '.', markersize=1)\n",
    "    plt.xlabel(\"Longitude\")\n",
    "    plt.ylabel(\"Latitude\")\n",
    "    plt.axis(\"scaled\")\n",
    "    plt.xlim(config[\"xlim_degree\"])\n",
    "    plt.ylim(config[\"ylim_degree\"])\n",
    "    #     plt.savefig(os.path.join(data_path, \"events_loc.png\"))\n",
    "    plt.show()\n",
    "\n",
    "    plt.figure()\n",
    "    plt.plot_date(catalog[\"time\"], catalog[\"magnitude\"], '.', markersize=1)\n",
    "    plt.gcf().autofmt_xdate()\n",
    "    plt.ylabel(\"Magnitude\")\n",
    "    plt.title(f\"Number of events: {len(events)}\")\n",
    "    plt.savefig(os.path.join(\"events_mag_time.png\"))\n",
    "    plt.show()\n"
   ]
  },
  {
   "cell_type": "code",
   "execution_count": 55,
   "metadata": {
    "execution": {
     "iopub.execute_input": "2021-07-23T07:24:31.708478Z",
     "iopub.status.busy": "2021-07-23T07:24:31.708086Z",
     "iopub.status.idle": "2021-07-23T07:24:31.763254Z",
     "shell.execute_reply": "2021-07-23T07:24:31.762255Z",
     "shell.execute_reply.started": "2021-07-23T07:24:31.708431Z"
    }
   },
   "outputs": [],
   "source": [
    "if run_local:\n",
    "    download_events(root_dir(\"config.json\"), root_dir(\"events.csv\"))\n"
   ]
  },
  {
   "cell_type": "code",
   "execution_count": 56,
   "metadata": {
    "execution": {
     "iopub.execute_input": "2021-07-23T07:24:31.767253Z",
     "iopub.status.busy": "2021-07-23T07:24:31.766926Z",
     "iopub.status.idle": "2021-07-23T07:24:31.858952Z",
     "shell.execute_reply": "2021-07-23T07:24:31.857871Z",
     "shell.execute_reply.started": "2021-07-23T07:24:31.767217Z"
    }
   },
   "outputs": [],
   "source": [
    "download_events_op = comp.func_to_container_op(\n",
    "    download_events,\n",
    "    # base_image='zhuwq0/quakeflow-env:latest',\n",
    "    base_image='python:3.8',\n",
    "    packages_to_install=[\"obspy\", \"pandas\", \"matplotlib\",],\n",
    ")\n"
   ]
  },
  {
   "cell_type": "markdown",
   "metadata": {},
   "source": [
    "## 4. Download stations"
   ]
  },
  {
   "cell_type": "code",
   "execution_count": 57,
   "metadata": {
    "execution": {
     "iopub.execute_input": "2021-07-23T07:24:31.861343Z",
     "iopub.status.busy": "2021-07-23T07:24:31.861019Z",
     "iopub.status.idle": "2021-07-23T07:24:31.939716Z",
     "shell.execute_reply": "2021-07-23T07:24:31.938058Z",
     "shell.execute_reply.started": "2021-07-23T07:24:31.861310Z"
    }
   },
   "outputs": [],
   "source": [
    "def download_stations(\n",
    "    config_json: InputPath(\"json\"), station_csv: OutputPath(str), station_pkl: OutputPath(\"pickle\"),\n",
    "):\n",
    "\n",
    "    import pickle, os\n",
    "    import obspy\n",
    "    from obspy.clients.fdsn import Client\n",
    "    from collections import defaultdict\n",
    "    import pandas as pd\n",
    "    import json\n",
    "    import matplotlib\n",
    "\n",
    "    #     matplotlib.use(\"agg\")\n",
    "    import matplotlib.pyplot as plt\n",
    "\n",
    "    with open(config_json, \"r\") as fp:\n",
    "        config = json.load(fp)\n",
    "\n",
    "    print(\"Network:\", \",\".join(config[\"networks\"]))\n",
    "    ####### Download stations ########\n",
    "    stations = Client(config[\"client\"]).get_stations(\n",
    "        network=\",\".join(config[\"networks\"]),\n",
    "        station=\"*\",\n",
    "        starttime=config[\"starttime\"],\n",
    "        endtime=config[\"endtime\"],\n",
    "        minlongitude=config[\"xlim_degree\"][0],\n",
    "        maxlongitude=config[\"xlim_degree\"][1],\n",
    "        minlatitude=config[\"ylim_degree\"][0],\n",
    "        maxlatitude=config[\"ylim_degree\"][1],\n",
    "        channel=config[\"channels\"],\n",
    "        level=\"response\",\n",
    "    )  # ,\n",
    "    #                                            filename=\"stations.xml\")\n",
    "\n",
    "    #     stations = obspy.read_inventory(\"stations.xml\")\n",
    "    print(\"Number of stations: {}\".format(sum([len(x) for x in stations])))\n",
    "    # stations.plot('local', outfile=\"stations.png\")\n",
    "    #     stations.plot('local')\n",
    "\n",
    "    ####### Save stations ########\n",
    "    station_locs = defaultdict(dict)\n",
    "    for network in stations:\n",
    "        for station in network:\n",
    "            for chn in station:\n",
    "                sid = f\"{network.code}.{station.code}.{chn.location_code}.{chn.code[:-1]}\"\n",
    "                if sid in station_locs:\n",
    "                    station_locs[sid][\"component\"] += f\",{chn.code[-1]}\"\n",
    "                    station_locs[sid][\"response\"] += f\",{chn.response.instrument_sensitivity.value:.2f}\"\n",
    "                else:\n",
    "                    component = f\"{chn.code[-1]}\"\n",
    "                    response = f\"{chn.response.instrument_sensitivity.value:.2f}\"\n",
    "                    dtype = chn.response.instrument_sensitivity.input_units.lower()\n",
    "                    tmp_dict = {}\n",
    "                    (tmp_dict[\"longitude\"], tmp_dict[\"latitude\"], tmp_dict[\"elevation(m)\"],) = (\n",
    "                        chn.longitude,\n",
    "                        chn.latitude,\n",
    "                        chn.elevation,\n",
    "                    )\n",
    "                    tmp_dict[\"component\"], tmp_dict[\"response\"], tmp_dict[\"unit\"] = (\n",
    "                        component,\n",
    "                        response,\n",
    "                        dtype,\n",
    "                    )\n",
    "                    station_locs[sid] = tmp_dict\n",
    "\n",
    "    station_locs = pd.DataFrame.from_dict(station_locs, orient='index')\n",
    "    station_locs.to_csv(\n",
    "        station_csv,\n",
    "        sep=\"\\t\",\n",
    "        float_format=\"%.3f\",\n",
    "        index_label=\"station\",\n",
    "        columns=[\"longitude\", \"latitude\", \"elevation(m)\", \"unit\", \"component\", \"response\",],\n",
    "    )\n",
    "\n",
    "    with open(station_pkl, \"wb\") as fp:\n",
    "        pickle.dump(stations, fp)\n",
    "\n",
    "    #     ####### Plot stations ########\n",
    "    plt.figure()\n",
    "    plt.plot(station_locs[\"longitude\"], station_locs[\"latitude\"], \"^\", label=\"Stations\")\n",
    "    plt.xlabel(\"X (km)\")\n",
    "    plt.ylabel(\"Y (km)\")\n",
    "    plt.axis(\"scaled\")\n",
    "    plt.xlim(config[\"xlim_degree\"])\n",
    "    plt.ylim(config[\"ylim_degree\"])\n",
    "    plt.legend()\n",
    "    plt.title(f\"Number of stations: {len(station_locs)}\")\n",
    "    #     plt.savefig(os.path.join(data_path, \"stations_loc.png\"))\n",
    "    plt.show()\n"
   ]
  },
  {
   "cell_type": "code",
   "execution_count": 58,
   "metadata": {
    "execution": {
     "iopub.execute_input": "2021-07-23T07:24:31.942085Z",
     "iopub.status.busy": "2021-07-23T07:24:31.941654Z",
     "iopub.status.idle": "2021-07-23T07:24:31.991241Z",
     "shell.execute_reply": "2021-07-23T07:24:31.989989Z",
     "shell.execute_reply.started": "2021-07-23T07:24:31.941898Z"
    }
   },
   "outputs": [],
   "source": [
    "if run_local:\n",
    "    download_stations(root_dir(\"config.json\"), root_dir(\"stations.csv\"), root_dir(\"stations.pkl\"))\n"
   ]
  },
  {
   "cell_type": "code",
   "execution_count": 59,
   "metadata": {
    "execution": {
     "iopub.execute_input": "2021-07-23T07:24:31.993707Z",
     "iopub.status.busy": "2021-07-23T07:24:31.992949Z",
     "iopub.status.idle": "2021-07-23T07:24:32.100151Z",
     "shell.execute_reply": "2021-07-23T07:24:32.099340Z",
     "shell.execute_reply.started": "2021-07-23T07:24:31.993636Z"
    }
   },
   "outputs": [],
   "source": [
    "download_stations_op = comp.func_to_container_op(\n",
    "    download_stations,\n",
    "    # base_image='zhuwq0/quakeflow-env:latest',\n",
    "    base_image='python:3.8',\n",
    "    packages_to_install=[\"obspy\", \"pandas\", \"matplotlib\",],\n",
    ")\n"
   ]
  },
  {
   "cell_type": "markdown",
   "metadata": {},
   "source": [
    "## 5. Download waveform data"
   ]
  },
  {
   "cell_type": "code",
   "execution_count": 60,
   "metadata": {
    "execution": {
     "iopub.execute_input": "2021-07-23T07:24:32.103202Z",
     "iopub.status.busy": "2021-07-23T07:24:32.102609Z",
     "iopub.status.idle": "2021-07-23T07:24:32.179621Z",
     "shell.execute_reply": "2021-07-23T07:24:32.178724Z",
     "shell.execute_reply.started": "2021-07-23T07:24:32.103138Z"
    }
   },
   "outputs": [],
   "source": [
    "def download_waveform(\n",
    "    i: int,\n",
    "    index_json: InputPath(\"json\"),\n",
    "    config_json: InputPath(\"json\"),\n",
    "    datetime_json: InputPath(\"json\"),\n",
    "    station_pkl: InputPath(\"pickle\"),\n",
    "    fname_csv: OutputPath(str),\n",
    "    data_path: str,\n",
    "    bucket_name: str = \"waveforms\",\n",
    "    s3_url: str = \"minio-service:9000\",\n",
    "    secure: bool = True,\n",
    ") -> str:\n",
    "\n",
    "    import pickle, os\n",
    "    import obspy\n",
    "    from obspy.clients.fdsn import Client\n",
    "    import time\n",
    "    import json\n",
    "    import random\n",
    "    import threading\n",
    "\n",
    "    lock = threading.Lock()\n",
    "\n",
    "    with open(index_json, \"r\") as fp:\n",
    "        index = json.load(fp)\n",
    "    idx = index[i]\n",
    "    with open(config_json, \"r\") as fp:\n",
    "        config = json.load(fp)\n",
    "    with open(datetime_json, \"r\") as fp:\n",
    "        tmp = json.load(fp)\n",
    "        starttimes = tmp[\"starttimes\"]\n",
    "        interval = tmp[\"interval\"]\n",
    "    with open(station_pkl, \"rb\") as fp:\n",
    "        stations = pickle.load(fp)\n",
    "\n",
    "    waveform_dir = os.path.join(data_path, config[\"region\"], \"waveforms\")\n",
    "    if not os.path.exists(waveform_dir):\n",
    "        os.makedirs(waveform_dir)\n",
    "\n",
    "    ####### Download data ########\n",
    "    client = Client(config[\"client\"])\n",
    "    fname_list = [\"fname\"]\n",
    "\n",
    "    def download(i):\n",
    "        #     for i in idx:\n",
    "        starttime = obspy.UTCDateTime(starttimes[i])\n",
    "        endtime = starttime + interval\n",
    "        # fname = \"{}.mseed\".format(starttime.datetime.strftime(\"%Y-%m-%dT%H:%M:%S\"))\n",
    "        folder = starttime.datetime.strftime(\"%Y/%j\")\n",
    "\n",
    "        if not os.path.exists(os.path.join(waveform_dir, folder)):\n",
    "            os.makedirs(os.path.join(waveform_dir, folder), exist_ok=True)\n",
    "        # status = os.system(f\"ssh zhuwq@wintermute.gps.caltech.edu mkdir -p /scratch/zhuwq/Hawaii/wf/{folder}/\")\n",
    "        # if status != 0:\n",
    "        #     print(f\"Failed: ssh zhuwq@wintermute.gps.caltech.edu mkdir -p /scratch/zhuwq/Hawaii/wf/{folder}/\")\n",
    "\n",
    "        max_retry = 10\n",
    "\n",
    "        status = -1\n",
    "        retry_rsync = 0\n",
    "        while (status != 0) and (retry_rsync < max_retry):\n",
    "            status = os.system(f\"ssh zhuwq@wintermute mkdir -p /scratch/zhuwq/Hawaii/wf/{folder}/\")\n",
    "            retry_rsync += 1\n",
    "            time.sleep(5)\n",
    "\n",
    "        if status != 0:\n",
    "            print(f\"Failed: ssh zhuwq@wintermute mkdir -p /scratch/zhuwq/Hawaii/wf/{folder}/\")\n",
    "\n",
    "        print(f\"{folder} download starts\")\n",
    "        num_sta = 0\n",
    "        for network in stations:\n",
    "            for station in network:\n",
    "                print(f\"********{network.code}.{station.code}********\")\n",
    "                retry = 0\n",
    "                while retry < max_retry:\n",
    "                    try:\n",
    "                        stream = client.get_waveforms(\n",
    "                            network.code, station.code, \"*\", config[\"channels\"], starttime, endtime,\n",
    "                        )\n",
    "                        if len(stream) > 0:\n",
    "                            stream = stream.merge(fill_value=0)\n",
    "                            stream = stream.trim(starttime, endtime, pad=True, fill_value=0)\n",
    "\n",
    "                            for trace in stream:\n",
    "                                if trace.stats.sampling_rate != 100:\n",
    "                                    trace = trace.interpolate(100, method=\"linear\")\n",
    "                                trace_name = f\"{trace.stats.network}.{trace.stats.station}.{trace.stats.channel}.mseed\"\n",
    "                                trace.write(os.path.join(waveform_dir, folder, trace_name), format=\"mseed\")\n",
    "                                # os.system(f\"scp {trace_name} zhuwq@wintermute.gps.caltech.edu:/scratch/zhuwq/Hawaii/wf/{folder}/\")\n",
    "                                # scp.put(f\"{trace_name}\", f\"/scratch/zhuwq/Hawaii/wf/{folder}/\")\n",
    "                                # status = os.system(f\"rsync -av {os.path.join(waveform_dir, folder, trace_name)} zhuwq@wintermute.gps.caltech.edu:/scratch/zhuwq/Hawaii/wf/{folder}/{trace_name}\")\n",
    "                                # if status != 0:\n",
    "                                #     print(f\"Failed: rsync -av {os.path.join(waveform_dir, folder, trace_name)} zhuwq@wintermute.gps.caltech.edu:/scratch/zhuwq/Hawaii/wf/{folder}/{trace_name}\")\n",
    "\n",
    "                                status = -1\n",
    "                                retry_rsync = 0\n",
    "                                while (status != 0) and (retry_rsync < max_retry):\n",
    "                                    status = os.system(f\"rsync -av {os.path.join(waveform_dir, folder, trace_name)} zhuwq@wintermute:/scratch/zhuwq/Hawaii/wf/{folder}/{trace_name}\")\n",
    "                                    retry_rsync += 1\n",
    "                                    time.sleep(5)\n",
    "\n",
    "                                if status != 0:\n",
    "                                    print(f\"Failed: rsync -av {os.path.join(waveform_dir, folder, trace_name)} zhuwq@wintermute:/scratch/zhuwq/Hawaii/wf/{folder}/{trace_name}\")\n",
    "                                else:\n",
    "                                    os.system(f\"rm -f {os.path.join(waveform_dir, folder, trace_name)}\")\n",
    "\n",
    "                        break\n",
    "                    except Exception as err:\n",
    "                        print(\"Error {}.{}: {}\".format(network.code, station.code, err))\n",
    "                        message = \"No data available for request.\"\n",
    "                        if str(err)[: len(message)] == message:\n",
    "                            break\n",
    "                        retry += 1\n",
    "                        time.sleep(5)\n",
    "                        continue\n",
    "\n",
    "                if retry == max_retry:\n",
    "                    print(f\"{folder}: MAX {max_retry} retries reached : {network.code}.{station.code}\")\n",
    "\n",
    "        print(f\"{folder} download succeeds\")\n",
    "\n",
    "        lock.acquire()\n",
    "        fname_list.append(folder)\n",
    "        lock.release()\n",
    "\n",
    "    threads = []\n",
    "    MAX_THREADS = 4\n",
    "    # MAX_THREADS = 1\n",
    "    for ii, i in enumerate(idx):\n",
    "        t = threading.Thread(target=download, args=(i,))\n",
    "        t.start()\n",
    "        time.sleep(1)\n",
    "        threads.append(t)\n",
    "        if ii % MAX_THREADS == MAX_THREADS - 1:\n",
    "            for t in threads:\n",
    "                t.join()\n",
    "            threads = []\n",
    "    for t in threads:\n",
    "        t.join()\n",
    "\n",
    "    with open(fname_csv, \"w\") as fp:\n",
    "        fp.write(\"\\n\".join(fname_list))\n",
    "\n",
    "    return waveform_dir\n"
   ]
  },
  {
   "cell_type": "code",
   "execution_count": 61,
   "metadata": {
    "execution": {
     "iopub.execute_input": "2021-07-23T07:24:32.181167Z",
     "iopub.status.busy": "2021-07-23T07:24:32.180847Z",
     "iopub.status.idle": "2021-07-23T07:24:32.236207Z",
     "shell.execute_reply": "2021-07-23T07:24:32.235446Z",
     "shell.execute_reply.started": "2021-07-23T07:24:32.181139Z"
    },
    "tags": []
   },
   "outputs": [],
   "source": [
    "if run_local:\n",
    "    waveform_path = download_waveform(\n",
    "        0,\n",
    "        root_dir(\"index.json\"),\n",
    "        root_dir(\"config.json\"),\n",
    "        root_dir(\"datetimes.json\"),\n",
    "        root_dir(\"stations.pkl\"),\n",
    "        root_dir(\"fname.csv\"),\n",
    "        data_path=root_dir(\"\"),\n",
    "    )\n"
   ]
  },
  {
   "cell_type": "code",
   "execution_count": 62,
   "metadata": {
    "execution": {
     "iopub.execute_input": "2021-07-23T07:24:32.237575Z",
     "iopub.status.busy": "2021-07-23T07:24:32.237229Z",
     "iopub.status.idle": "2021-07-23T07:24:32.304622Z",
     "shell.execute_reply": "2021-07-23T07:24:32.303775Z",
     "shell.execute_reply.started": "2021-07-23T07:24:32.237538Z"
    }
   },
   "outputs": [],
   "source": [
    "download_waveform_op = comp.func_to_container_op(\n",
    "    download_waveform,\n",
    "    base_image=\"zhuwq0/waveform-env:1.1\",\n",
    "    # base_image='python:3.8',\n",
    "    # packages_to_install=[\"obspy\", \"minio\"],\n",
    ")\n"
   ]
  },
  {
   "cell_type": "code",
   "execution_count": 63,
   "metadata": {
    "execution": {
     "iopub.execute_input": "2021-07-23T07:24:32.985184Z",
     "iopub.status.busy": "2021-07-23T07:24:32.984821Z",
     "iopub.status.idle": "2021-07-23T07:24:33.040031Z",
     "shell.execute_reply": "2021-07-23T07:24:33.039300Z",
     "shell.execute_reply.started": "2021-07-23T07:24:32.985158Z"
    }
   },
   "outputs": [],
   "source": [
    "@dsl.pipeline(name='QuakeFlow', description='')\n",
    "def quakeflow_pipeline(\n",
    "    data_path: str = \"/tmp/\",\n",
    "    num_parallel=0,\n",
    "    bucket_catalog: str = \"catalogs\",\n",
    "    s3_url: str = \"minio-service:9000\",\n",
    "    secure: bool = False,\n",
    "):\n",
    "\n",
    "    config = config_op(num_parallel)\n",
    "\n",
    "    events = download_events_op(config.outputs[\"config_json\"]).set_display_name('Download Events')\n",
    "\n",
    "    stations = download_stations_op(config.outputs[\"config_json\"]).set_display_name('Download Stations')\n",
    "\n",
    "    with kfp.dsl.ParallelFor(config.outputs[\"output\"]) as i:\n",
    "\n",
    "        # vop_ = dsl.VolumeOp(\n",
    "        #     name=f\"Create volume 2\",\n",
    "        #     resource_name=f\"data-volume-{str(i)}\",\n",
    "        #     size=\"50Gi\",\n",
    "        #     modes=dsl.VOLUME_MODE_RWO,\n",
    "        # ).set_retry(3)\n",
    "\n",
    "        download_op_ = (\n",
    "            download_waveform_op(\n",
    "                i,\n",
    "                config.outputs[\"index_json\"],\n",
    "                config.outputs[\"config_json\"],\n",
    "                config.outputs[\"datetime_json\"],\n",
    "                stations.outputs[\"station_pkl\"],\n",
    "                data_path=data_path,\n",
    "                bucket_name=f\"waveforms\",\n",
    "                s3_url=s3_url,\n",
    "                secure=secure,\n",
    "            )\n",
    "            # .add_pvolumes({data_path: vop_.volume})\n",
    "            .set_cpu_request(\"800m\")\n",
    "            .set_retry(3)\n",
    "            .set_display_name('Download Waveforms')\n",
    "        )\n",
    "        download_op_.execution_options.caching_strategy.max_cache_staleness = \"P30D\"\n",
    "        download_op_.set_image_pull_policy(\"Always\")\n"
   ]
  },
  {
   "cell_type": "code",
   "execution_count": 64,
   "metadata": {
    "execution": {
     "iopub.execute_input": "2021-07-23T07:24:33.046370Z",
     "iopub.status.busy": "2021-07-23T07:24:33.046091Z",
     "iopub.status.idle": "2021-07-23T07:24:36.738285Z",
     "shell.execute_reply": "2021-07-23T07:24:36.737618Z",
     "shell.execute_reply.started": "2021-07-23T07:24:33.046345Z"
    }
   },
   "outputs": [
    {
     "data": {
      "text/html": [
       "<a href=\"http://7f176775ae43f263-dot-us-west1.pipelines.googleusercontent.com/#/experiments/details/a6bdb01d-5e26-4462-84c6-dd2b40455c1f\" target=\"_blank\" >Experiment details</a>."
      ],
      "text/plain": [
       "<IPython.core.display.HTML object>"
      ]
     },
     "metadata": {},
     "output_type": "display_data"
    },
    {
     "data": {
      "text/html": [
       "<a href=\"http://7f176775ae43f263-dot-us-west1.pipelines.googleusercontent.com/#/runs/details/2df93322-0b65-45b1-8691-a84c34508ae1\" target=\"_blank\" >Run details</a>."
      ],
      "text/plain": [
       "<IPython.core.display.HTML object>"
      ]
     },
     "metadata": {},
     "output_type": "display_data"
    }
   ],
   "source": [
    "import os\n",
    "\n",
    "os.environ[\"GOOGLE_APPLICATION_CREDENTIALS\"] = \"/home/weiqiang/.dotbot/cloud/quakeflow_zhuwq.json\"\n",
    "experiment_name = 'QuakeFlow'\n",
    "pipeline_func = quakeflow_pipeline\n",
    "run_name = pipeline_func.__name__ + '_run'\n",
    "\n",
    "arguments = {\n",
    "    \"data_path\": \"/tmp\",\n",
    "    \"num_parallel\": 0,\n",
    "    \"bucket_catalog\": \"catalogs\",\n",
    "    \"s3_url\": \"minio-service:9000\",\n",
    "    \"secure\": False,\n",
    "}\n",
    "\n",
    "if not run_local:\n",
    "    pipeline_conf = kfp.dsl.PipelineConf()\n",
    "    pipeline_conf.set_image_pull_policy(\"Always\")\n",
    "    pipeline_conf.ttl_seconds_after_finished = 60 * 10\n",
    "    client = kfp.Client(host=\"7f176775ae43f263-dot-us-west1.pipelines.googleusercontent.com\")\n",
    "    # client = kfp.Client(host=\"http://localhost:8080\")\n",
    "    kfp.compiler.Compiler().compile(pipeline_func, '{}.zip'.format(experiment_name), pipeline_conf=pipeline_conf)\n",
    "    results = client.create_run_from_pipeline_func(\n",
    "        pipeline_func, experiment_name=experiment_name, run_name=run_name, arguments=arguments,\n",
    "    )\n"
   ]
  },
  {
   "cell_type": "code",
   "execution_count": null,
   "metadata": {},
   "outputs": [],
   "source": []
  }
 ],
 "metadata": {
  "interpreter": {
   "hash": "cd49b9d623d06aa0c5f872a997e70207e179b28bd8e4cd8fec363e5d29096c9c"
  },
  "kernelspec": {
   "display_name": "Python 3.8.12 ('base')",
   "language": "python",
   "name": "python3"
  },
  "language_info": {
   "codemirror_mode": {
    "name": "ipython",
    "version": 3
   },
   "file_extension": ".py",
   "mimetype": "text/x-python",
   "name": "python",
   "nbconvert_exporter": "python",
   "pygments_lexer": "ipython3",
   "version": "3.9.12"
  }
 },
 "nbformat": 4,
 "nbformat_minor": 4
}
