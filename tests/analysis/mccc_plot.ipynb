{
 "cells": [
  {
   "cell_type": "code",
   "execution_count": null,
   "metadata": {},
   "outputs": [],
   "source": [
    "from pathlib import Path\n",
    "import obspy\n",
    "import pandas as pd\n",
    "import torch\n",
    "from tqdm import tqdm\n",
    "from mccc import MCCCPicker"
   ]
  },
  {
   "cell_type": "code",
   "execution_count": null,
   "metadata": {},
   "outputs": [],
   "source": [
    "input_path = Path(\"output/waveforms_by_station\")\n",
    "output_path = Path(\"output/mccc_results\")\n",
    "if not output_path.exists():\n",
    "    output_path.mkdir(parents=True)"
   ]
  },
  {
   "cell_type": "code",
   "execution_count": null,
   "metadata": {},
   "outputs": [],
   "source": [
    "events = pd.read_csv(\"output/selected_events.csv\")\n",
    "plt.figure()\n",
    "plt.scatter(events[\"longitude\"], events[\"latitude\"], s=1)\n",
    "plt.axis(\"scaled\")\n",
    "plt.show()"
   ]
  },
  {
   "cell_type": "code",
   "execution_count": null,
   "metadata": {},
   "outputs": [],
   "source": [
    "events = pd.read_csv(\"output/filt_events.csv\")\n",
    "print(len(events))\n",
    "plt.figure()\n",
    "plt.scatter(events[\"longitude\"], events[\"latitude\"], s=1)\n",
    "plt.axis(\"scaled\")\n",
    "plt.show()"
   ]
  },
  {
   "cell_type": "code",
   "execution_count": null,
   "metadata": {},
   "outputs": [],
   "source": [
    "events = events.sort_values(by=\"latitude\").reset_index(drop=True)\n",
    "events_loa = events[events[\"latitude\"] < 19.52]\n",
    "events_kea = events[events[\"latitude\"] > 19.8]\n",
    "events_chain = events[(events[\"latitude\"] >= 19.52) & (events[\"latitude\"] <= 19.8)]\n",
    "\n",
    "index_loa = events_loa.index\n",
    "index_kea = events_kea.index\n",
    "index_chain = events_chain.index"
   ]
  },
  {
   "cell_type": "code",
   "execution_count": null,
   "metadata": {},
   "outputs": [],
   "source": [
    "plt.figure(figsize=(4, 8))\n",
    "plt.scatter(events_chain[\"longitude\"], events_chain[\"latitude\"], c=\"C1\", s=2, label=f\"Ambiguous: {len(events_chain)}\")\n",
    "plt.scatter(events_loa[\"longitude\"], events_loa[\"latitude\"], c=\"C0\", s=2, label=f\"Loa: {len(events_loa)}\")\n",
    "plt.scatter(events_kea[\"longitude\"], events_kea[\"latitude\"], c=\"C2\", s=2, label=f\"Kea: {len(events_kea)}\")\n",
    "plt.axis(\"scaled\")\n",
    "# plt.grid(\"on\")\n",
    "plt.legend(markerscale=6)\n",
    "plt.savefig(\"events.png\", dpi=300, bbox_inches=\"tight\")\n",
    "plt.show()"
   ]
  },
  {
   "cell_type": "code",
   "execution_count": 7,
   "metadata": {},
   "outputs": [],
   "source": [
    "files = list(input_path.glob(\"*.npy\"))\n",
    "for f in tqdm(files):\n",
    "\n",
    "    waveforms = np.load(f, allow_pickle=True)\n",
    "    if len(waveforms) == 0:\n",
    "        continue\n",
    "    min_nt = min([len(w) for w in waveforms])\n",
    "    data = []\n",
    "    for w in waveforms:\n",
    "        data.append(w[:min_nt])\n",
    "    data = np.array(data)\n",
    "    data = torch.tensor(data, dtype=torch.float32)\n",
    "\n",
    "    \n",
    "    picker = MCCCPicker(data.cuda(), 0.01, mccc_mincc=0.5, mccc_maxlag=1.0, mccc_maxwin=100, max_niter=1, chunk_size=1000, ma=1, damp=10, whitening_waterlevel=0.1, mode=\"align\")\n",
    "    result = picker.solve()\n",
    "\n",
    "    cc_dt = result[\"cc_dt\"].cpu().detach().numpy()\n",
    "    plt.figure()\n",
    "    plt.plot(cc_dt)\n",
    "    plt.savefig(output_path / f\"{f.stem}_dt.png\", dpi=300, bbox_inches=\"tight\")\n",
    "    plt.close()\n",
    "    # plt.show()\n",
    "\n",
    "    if np.max(np.abs(cc_dt)) < 1.0:\n",
    "        cc_dt *= 0.0\n",
    "\n",
    "    plt.figure(figsize=(8, 30))\n",
    "    normalize = lambda x: (x - x.mean()) / x.std()\n",
    "    t = np.arange(min_nt) * 0.01\n",
    "    t_interp = np.linspace(-6, 31, 3701)\n",
    "    y = []\n",
    "    for i in range(len(data)):\n",
    "        y_interp = np.interp(t_interp, t-cc_dt[i], normalize(data[i]), left=np.nan, right=np.nan)\n",
    "        y.append(y_interp)\n",
    "        plt.plot(t_interp, y_interp/6 + i, linewidth=0.5, color=\"k\")\n",
    "    plt.grid(\"on\")\n",
    "    plt.ylim([-1, len(data)+1])\n",
    "    plt.xlabel(\"Time (s)\")\n",
    "    plt.ylabel(\"Event #\")\n",
    "    plt.savefig(output_path / f\"{f.stem}_waveform.png\", dpi=300, bbox_inches=\"tight\")\n",
    "    plt.close()\n",
    "    # plt.show()\n",
    "\n",
    "    y = np.array(y)\n",
    "    plt.figure(figsize=(10, 20))\n",
    "    plt.pcolormesh(t_interp, np.arange(y.shape[0]),  y, cmap=\"seismic\", vmin=-1.5, vmax=1.5)\n",
    "    plt.grid(\"on\")\n",
    "    plt.xlabel(\"Time (s)\")\n",
    "    plt.ylabel(\"Event #\")\n",
    "    plt.savefig(output_path / f\"{f.stem}_colormesh.png\", dpi=300, bbox_inches=\"tight\")\n",
    "    plt.close()\n",
    "    # plt.show()\n",
    "\n",
    "    # break"
   ]
  }
 ],
 "metadata": {
  "kernelspec": {
   "display_name": "base",
   "language": "python",
   "name": "python3"
  },
  "language_info": {
   "codemirror_mode": {
    "name": "ipython",
    "version": 3
   },
   "file_extension": ".py",
   "mimetype": "text/x-python",
   "name": "python",
   "nbconvert_exporter": "python",
   "pygments_lexer": "ipython3",
   "version": "3.9.12"
  },
  "orig_nbformat": 4,
  "vscode": {
   "interpreter": {
    "hash": "cd49b9d623d06aa0c5f872a997e70207e179b28bd8e4cd8fec363e5d29096c9c"
   }
  }
 },
 "nbformat": 4,
 "nbformat_minor": 2
}
