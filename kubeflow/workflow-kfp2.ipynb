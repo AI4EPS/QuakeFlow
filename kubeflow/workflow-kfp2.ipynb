{
 "cells": [
  {
   "cell_type": "code",
   "execution_count": 2,
   "metadata": {},
   "outputs": [],
   "source": [
    "import os\n",
    "from collections import namedtuple\n",
    "import matplotlib\n",
    "import matplotlib.pyplot as plt\n",
    "\n",
    "matplotlib.use(\"agg\")\n",
    "%matplotlib inline\n",
    "\n",
    "run_local = False\n",
    "\n",
    "region_name = \"Demo\"\n",
    "dir_name = region_name\n",
    "if not os.path.exists(dir_name):\n",
    "    os.mkdir(dir_name)\n",
    "root_dir = lambda x: os.path.join(dir_name, x)\n",
    "Artifact2 = namedtuple(\"Artifact\", [\"path\"])"
   ]
  },
  {
   "cell_type": "code",
   "execution_count": 4,
   "metadata": {},
   "outputs": [],
   "source": [
    "from kfp import dsl\n",
    "\n",
    "@dsl.component\n",
    "def square(x: float) -> float:\n",
    "    return x ** 2"
   ]
  },
  {
   "cell_type": "code",
   "execution_count": 9,
   "metadata": {},
   "outputs": [
    {
     "data": {
      "text/plain": [
       "ComponentSpec(name='square', implementation=Implementation(container=ContainerSpecImplementation(image='python:3.7', command=['sh', '-c', '\\nif ! [ -x \"$(command -v pip)\" ]; then\\n    python3 -m ensurepip || python3 -m ensurepip --user || apt-get install python3-pip\\nfi\\n\\nPIP_DISABLE_PIP_VERSION_CHECK=1 python3 -m pip install --quiet     --no-warn-script-location \\'kfp==2.0.1\\' && \"$0\" \"$@\"\\n', 'sh', '-ec', 'program_path=$(mktemp -d)\\nprintf \"%s\" \"$0\" > \"$program_path/ephemeral_component.py\"\\npython3 -m kfp.components.executor_main                         --component_module_path                         \"$program_path/ephemeral_component.py\"                         \"$@\"\\n', '\\nimport kfp\\nfrom kfp import dsl\\nfrom kfp.dsl import *\\nfrom typing import *\\n\\ndef square(x: float) -> float:\\n    return x ** 2\\n\\n'], args=['--executor_input', <kfp.components.placeholders.ExecutorInputPlaceholder object at 0x11673f490>, '--function_to_execute', 'square'], env=None, resources=None), importer=None, graph=None), description=None, inputs={'x': InputSpec(type='Float', default=None, optional=False, is_artifact_list=False, description=None)}, outputs={'Output': OutputSpec(type='Float', is_artifact_list=False, description=None)}, platform_spec=)"
      ]
     },
     "execution_count": 9,
     "metadata": {},
     "output_type": "execute_result"
    }
   ],
   "source": [
    "square.component_spec"
   ]
  },
  {
   "cell_type": "code",
   "execution_count": 2,
   "metadata": {},
   "outputs": [],
   "source": [
    "from kfp import client\n",
    "from kfp import dsl\n",
    "from kfp.dsl import component, Input, Output, Artifact, OutputPath, InputPath"
   ]
  },
  {
   "cell_type": "code",
   "execution_count": 3,
   "metadata": {},
   "outputs": [],
   "source": [
    "@dsl.component(packages_to_install=[\"obspy\", \"numpy\", \"minio\", \"matplotlib\"])\n",
    "def set_config(\n",
    "    region_name: str,\n",
    "    index_json: Output[Artifact],\n",
    "    config_json: Output[Artifact],\n",
    "    datetime_json: Output[Artifact],\n",
    "    num_parallel: int = 1,\n",
    "    bucket_name: str = \"catalogs\",\n",
    "    s3_url: str = \"minio-service:9000\",\n",
    "    secure: bool = True,\n",
    "):\n",
    "\n",
    "    import datetime\n",
    "    import json\n",
    "    import os\n",
    "    import pickle\n",
    "    import numpy as np\n",
    "    import obspy\n",
    "\n",
    "    degree2km = np.pi * 6371 / 180\n",
    "\n",
    "    if region_name == \"Demo\":\n",
    "        center = (-117.504, 35.705)\n",
    "        horizontal_degree = 1.0\n",
    "        vertical_degree = 1.0\n",
    "        starttime = obspy.UTCDateTime(\"2019-07-04T17\")\n",
    "        endtime = obspy.UTCDateTime(\"2019-07-04T19\")\n",
    "        client = \"SCEDC\"\n",
    "        network_list = [\"CI\"]\n",
    "        channel_list = \"HH*,BH*,EH*,HN*\"\n",
    "\n",
    "\n",
    "    ####### save config ########\n",
    "    config = {}\n",
    "    config[\"region\"] = region_name\n",
    "    config[\"center\"] = center\n",
    "    config[\"xlim_degree\"] = [\n",
    "        center[0] - horizontal_degree / 2,\n",
    "        center[0] + horizontal_degree / 2,\n",
    "    ]\n",
    "    config[\"ylim_degree\"] = [\n",
    "        center[1] - vertical_degree / 2,\n",
    "        center[1] + vertical_degree / 2,\n",
    "    ]\n",
    "    config[\"min_longitude\"] = center[0] - horizontal_degree / 2\n",
    "    config[\"max_longitude\"] = center[0] + horizontal_degree / 2\n",
    "    config[\"min_latitude\"] = center[1] - vertical_degree / 2\n",
    "    config[\"max_latitude\"] = center[1] + vertical_degree / 2\n",
    "    config[\"degree2km\"] = degree2km\n",
    "    config[\"starttime\"] = starttime.datetime.isoformat(timespec=\"milliseconds\")\n",
    "    config[\"endtime\"] = endtime.datetime.isoformat(timespec=\"milliseconds\")\n",
    "    config[\"networks\"] = network_list\n",
    "    config[\"channels\"] = channel_list\n",
    "    config[\"client\"] = client\n",
    "\n",
    "    ## PhaseNet\n",
    "    config[\"phasenet\"] = {}\n",
    "    ## GaMMA\n",
    "    config[\"gamma\"] = {}\n",
    "    ## HypoDD\n",
    "    config[\"hypodd\"] = {\"MAXEVENT\": 1e4}\n",
    "\n",
    "    with open(config_json.path, \"w\") as fp:\n",
    "        json.dump(config, fp, indent=2)\n",
    "\n",
    "    print(json.dumps(config, indent=4))\n",
    "\n",
    "    ####### set paraell for cloud ########\n",
    "    ## split data by hours\n",
    "    # one_day = datetime.timedelta(days=1)\n",
    "    one_hour = datetime.timedelta(hours=1)\n",
    "    starttimes = []\n",
    "    tmp_start = starttime\n",
    "    while tmp_start < endtime:\n",
    "        starttimes.append(tmp_start.datetime.isoformat(timespec=\"milliseconds\"))\n",
    "        tmp_start += one_hour\n",
    "    with open(datetime_json.path, \"w\") as fp:\n",
    "        json.dump(\n",
    "            {\"starttimes\": starttimes, \"interval\": one_hour.total_seconds()},\n",
    "            fp,\n",
    "            indent=2,\n",
    "        )\n",
    "\n",
    "    ## split stattimes into N parallel process\n",
    "    if num_parallel == 0:\n",
    "        num_parallel = min(60, int((len(starttimes) - 1) // 6 + 1))\n",
    "        # num_parallel = min(30, int((len(starttimes)-1)//6+1))\n",
    "        # num_parallel = min(24, len(starttimes))\n",
    "    idx = [x.tolist() for x in np.array_split(np.arange(len(starttimes)), num_parallel)]\n",
    "\n",
    "    with open(index_json.path, \"w\") as fp:\n",
    "        json.dump(idx, fp, indent=2)\n",
    "\n",
    "    ## upload to s3 bucket\n",
    "    try:\n",
    "        from minio import Minio\n",
    "\n",
    "        minioClient = Minio(s3_url, access_key=\"minio\", secret_key=\"minio123\", secure=secure)\n",
    "        if not minioClient.bucket_exists(bucket_name):\n",
    "            minioClient.make_bucket(bucket_name)\n",
    "\n",
    "        minioClient.fput_object(\n",
    "            bucket_name,\n",
    "            f\"{config['region']}/config.json\",\n",
    "            config_json,\n",
    "        )\n",
    "\n",
    "        minioClient.fput_object(\n",
    "            bucket_name,\n",
    "            f\"{config['region']}/datetime.json\",\n",
    "            datetime_json,\n",
    "        )\n",
    "\n",
    "        minioClient.fput_object(\n",
    "            bucket_name,\n",
    "            f\"{config['region']}/index.json\",\n",
    "            index_json,\n",
    "        )\n",
    "\n",
    "    except Exception as err:\n",
    "        print(f\"ERROR: can not access minio service! \\n{err}\")\n",
    "        pass"
   ]
  },
  {
   "cell_type": "code",
   "execution_count": 4,
   "metadata": {},
   "outputs": [],
   "source": [
    "if run_local:\n",
    "    set_config.python_func(region_name=\"Demo\", index_json=Artifact2(root_dir(\"index.json\")), config_json=Artifact2(root_dir(\"config.json\")), datetime_json=Artifact2(root_dir(\"datetime.json\")), num_parallel=1, bucket_name=\"catalogs\", s3_url=\"minio-service:9000\", secure=True)"
   ]
  },
  {
   "cell_type": "code",
   "execution_count": 5,
   "metadata": {},
   "outputs": [],
   "source": [
    "@dsl.component(packages_to_install=[\"obspy\", \"numpy\", \"minio\", \"pandas\", \"matplotlib\"])\n",
    "def download_events(\n",
    "    config_json: Input[Artifact], \n",
    "    standard_catalog_csv: Output[Artifact],\n",
    "    catalog_location_png: Output[Artifact],\n",
    "    catalog_magnitude_png: Output[Artifact],\n",
    "    bucket_name: str = \"catalogs\",\n",
    "    s3_url: str = \"minio-service:9000\",\n",
    "    secure: bool = True,\n",
    "):\n",
    "\n",
    "    import json\n",
    "    import os\n",
    "    import pickle\n",
    "    from collections import defaultdict\n",
    "\n",
    "    import matplotlib\n",
    "    import matplotlib.pyplot as plt\n",
    "    import obspy\n",
    "    import pandas as pd\n",
    "    from obspy.clients.fdsn import Client\n",
    "\n",
    "    # matplotlib.use(\"agg\")\n",
    "    # %matplotlib inline\n",
    "\n",
    "    with open(config_json.path, \"r\") as fp:\n",
    "        config = json.load(fp)\n",
    "\n",
    "    ####### IRIS catalog ########\n",
    "    try:\n",
    "        events = Client(config[\"client\"]).get_events(\n",
    "            starttime=config[\"starttime\"],\n",
    "            endtime=config[\"endtime\"],\n",
    "            minlongitude=config[\"xlim_degree\"][0],\n",
    "            maxlongitude=config[\"xlim_degree\"][1],\n",
    "            minlatitude=config[\"ylim_degree\"][0],\n",
    "            maxlatitude=config[\"ylim_degree\"][1],\n",
    "            # filename='events.xml',\n",
    "        )\n",
    "    except:\n",
    "        events = Client(\"USGS\").get_events(\n",
    "            starttime=config[\"starttime\"],\n",
    "            endtime=config[\"endtime\"],\n",
    "            minlongitude=config[\"xlim_degree\"][0],\n",
    "            maxlongitude=config[\"xlim_degree\"][1],\n",
    "            minlatitude=config[\"ylim_degree\"][0],\n",
    "            maxlatitude=config[\"ylim_degree\"][1],\n",
    "            # filename='events.xml',\n",
    "        )\n",
    "\n",
    "    print(f\"Number of events: {len(events)}\")\n",
    "\n",
    "    ####### Save catalog ########\n",
    "    catalog = defaultdict(list)\n",
    "    for event in events:\n",
    "        if len(event.magnitudes) > 0:\n",
    "            catalog[\"time\"].append(event.origins[0].time.datetime)\n",
    "            catalog[\"magnitude\"].append(event.magnitudes[0].mag)\n",
    "            catalog[\"longitude\"].append(event.origins[0].longitude)\n",
    "            catalog[\"latitude\"].append(event.origins[0].latitude)\n",
    "            catalog[\"depth(m)\"].append(event.origins[0].depth)\n",
    "    catalog = pd.DataFrame.from_dict(catalog).sort_values([\"time\"])\n",
    "    catalog.to_csv(\n",
    "        standard_catalog_csv.path,\n",
    "        index=False,\n",
    "        float_format=\"%.3f\",\n",
    "        date_format=\"%Y-%m-%dT%H:%M:%S.%f\",\n",
    "        columns=[\"time\", \"magnitude\", \"longitude\", \"latitude\", \"depth(m)\"],\n",
    "    )\n",
    "\n",
    "    ## upload to s3 bucket\n",
    "    try:\n",
    "        from minio import Minio\n",
    "\n",
    "        minioClient = Minio(s3_url, access_key=\"minio\", secret_key=\"minio123\", secure=secure)\n",
    "        if not minioClient.bucket_exists(bucket_name):\n",
    "            minioClient.make_bucket(bucket_name)\n",
    "\n",
    "        minioClient.fput_object(\n",
    "            bucket_name,\n",
    "            f\"{config['region']}/standard_catalog.csv\",\n",
    "            standard_catalog_csv,\n",
    "        )\n",
    "\n",
    "    except Exception as err:\n",
    "        print(f\"ERROR: can not access minio service! \\n{err}\")\n",
    "        pass\n",
    "\n",
    "    ####### Plot catalog ########\n",
    "    plt.figure()\n",
    "    plt.plot(catalog[\"longitude\"], catalog[\"latitude\"], \".\", markersize=1)\n",
    "    plt.xlabel(\"Longitude\")\n",
    "    plt.ylabel(\"Latitude\")\n",
    "    plt.axis(\"scaled\")\n",
    "    plt.xlim(config[\"xlim_degree\"])\n",
    "    plt.ylim(config[\"ylim_degree\"])\n",
    "    plt.savefig(catalog_location_png.path, format=\"png\", dpi=300)\n",
    "\n",
    "    plt.figure()\n",
    "    plt.plot_date(catalog[\"time\"], catalog[\"magnitude\"], \".\", markersize=1)\n",
    "    plt.gcf().autofmt_xdate()\n",
    "    plt.ylabel(\"Magnitude\")\n",
    "    plt.title(f\"Number of events: {len(events)}\")\n",
    "    plt.savefig(catalog_magnitude_png.path, format=\"png\", dpi=300)"
   ]
  },
  {
   "cell_type": "code",
   "execution_count": 6,
   "metadata": {},
   "outputs": [],
   "source": [
    "@dsl.pipeline(name='quakeflow-pipeline')\n",
    "def quakeflow_pipeline(\n",
    "    data_path: str = \"/tmp/\",\n",
    "    num_parallel: int = 0,\n",
    "    bucket_catalog: str = \"catalogs\",\n",
    "    s3_url: str = \"minio-service:9000\",\n",
    "    secure: bool = False,\n",
    "):\n",
    "\n",
    "    config = set_config(\n",
    "        region_name=region_name, num_parallel=num_parallel, bucket_name=f\"catalogs\", s3_url=s3_url, secure=secure\n",
    "    )\n",
    "\n",
    "    events = download_events(config_json = config.outputs[\"config_json\"], bucket_name=f\"catalogs\", s3_url=s3_url, secure=secure)\n",
    "    \n",
    "\n",
    "    \n"
   ]
  },
  {
   "cell_type": "code",
   "execution_count": 9,
   "metadata": {},
   "outputs": [
    {
     "name": "stderr",
     "output_type": "stream",
     "text": [
      "/Users/weiqiang/.local/miniconda3/lib/python3.9/site-packages/kfp/client/client.py:158: FutureWarning: This client only works with Kubeflow Pipeline v2.0.0-beta.2 and later versions.\n",
      "  warnings.warn(\n"
     ]
    },
    {
     "data": {
      "text/html": [
       "<a href=\"http://test.quakeflow.com:8080/#/experiments/details/fcfd54d4-7241-4438-bbf6-21ea3013aa87\" target=\"_blank\" >Experiment details</a>."
      ],
      "text/plain": [
       "<IPython.core.display.HTML object>"
      ]
     },
     "metadata": {},
     "output_type": "display_data"
    },
    {
     "data": {
      "text/html": [
       "<a href=\"http://test.quakeflow.com:8080/#/runs/details/5b0a8d58-a561-4e31-b962-9738309b523b\" target=\"_blank\" >Run details</a>."
      ],
      "text/plain": [
       "<IPython.core.display.HTML object>"
      ]
     },
     "metadata": {},
     "output_type": "display_data"
    },
    {
     "name": "stdout",
     "output_type": "stream",
     "text": [
      "http://test.quakeflow.com:8080/#/runs/details/5b0a8d58-a561-4e31-b962-9738309b523b\n"
     ]
    }
   ],
   "source": [
    "endpoint = 'http://test.quakeflow.com:8080'\n",
    "kfp_client = client.Client(host=endpoint)\n",
    "run = kfp_client.create_run_from_pipeline_func(\n",
    "    quakeflow_pipeline,\n",
    "    # arguments={},\n",
    ")\n",
    "url = f'{endpoint}/#/runs/details/{run.run_id}'\n",
    "print(url)"
   ]
  },
  {
   "cell_type": "code",
   "execution_count": null,
   "metadata": {},
   "outputs": [],
   "source": []
  }
 ],
 "metadata": {
  "kernelspec": {
   "display_name": "base",
   "language": "python",
   "name": "python3"
  },
  "language_info": {
   "codemirror_mode": {
    "name": "ipython",
    "version": 3
   },
   "file_extension": ".py",
   "mimetype": "text/x-python",
   "name": "python",
   "nbconvert_exporter": "python",
   "pygments_lexer": "ipython3",
   "version": "3.11.4"
  },
  "orig_nbformat": 4,
  "vscode": {
   "interpreter": {
    "hash": "0efb5d07c150d814a79610ed835fac9f37a29f75f64726a0e33cb3dca03bca5e"
   }
  }
 },
 "nbformat": 4,
 "nbformat_minor": 2
}
